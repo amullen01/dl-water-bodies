{
 "cells": [
  {
   "cell_type": "code",
   "execution_count": 1,
   "id": "c610b45f-c77c-495d-a364-e2675ee8e1d8",
   "metadata": {},
   "outputs": [
    {
     "name": "stderr",
     "output_type": "stream",
     "text": [
      "/panfs/ccds02/nobackup/people/almullen/.conda/envs/smallsat/lib/python3.9/site-packages/geopandas/_compat.py:111: UserWarning: The Shapely GEOS version (3.9.1-CAPI-1.14.2) is incompatible with the GEOS version PyGEOS was compiled with (3.10.4-CAPI-1.16.2). Conversions between both will be slow.\n",
      "  warnings.warn(\n",
      "<frozen importlib._bootstrap>:228: RuntimeWarning: scipy._lib.messagestream.MessageStream size changed, may indicate binary incompatibility. Expected 56 from C header, got 64 from PyObject\n"
     ]
    }
   ],
   "source": [
    "import sys\n",
    "sys.path.append(\"..\")\n",
    "sys.path\n",
    "from utils.gs_utils import get_shapes\n",
    "import geopandas as gpd\n",
    "import pandas as pd\n",
    "import seaborn as sns\n",
    "from matplotlib import pyplot as plt\n",
    "import rasterio as rio\n",
    "import numpy as np\n",
    "from scipy import stats\n",
    "from rasterio.mask import mask\n",
    "import matplotlib.lines as mlines"
   ]
  },
  {
   "cell_type": "code",
   "execution_count": 2,
   "id": "385f386d-036b-490b-af75-12043694ebc5",
   "metadata": {},
   "outputs": [],
   "source": [
    "mm = 1/25.4\n",
    "\n",
    "paths_to_monthly_composites = ['/explore/nobackup/people/almullen/smallsat/data/AOI/fairbanks/planet/deployment/composites/final_weighted/pl_fairbanks_may.shp',\n",
    "                               '/explore/nobackup/people/almullen/smallsat/data/AOI/fairbanks/planet/deployment/composites/final_weighted/pl_fairbanks_june.shp',\n",
    "                               '/explore/nobackup/people/almullen/smallsat/data/AOI/fairbanks/planet/deployment/composites/final_weighted/pl_fairbanks_july.shp',\n",
    "                               '/explore/nobackup/people/almullen/smallsat/data/AOI/fairbanks/planet/deployment/composites/final_weighted/pl_fairbanks_august.shp',\n",
    "                               '/explore/nobackup/people/almullen/smallsat/data/AOI/fairbanks/planet/deployment/composites/final_weighted/pl_fairbanks_september.shp',\n",
    "                               '/explore/nobackup/people/almullen/smallsat/data/AOI/delta_junction/planet/deployment/composites/final_weighted/pl_delta_junction_may.shp',\n",
    "                               '/explore/nobackup/people/almullen/smallsat/data/AOI/delta_junction/planet/deployment/composites/final_weighted/pl_delta_junction_june.shp',\n",
    "                               '/explore/nobackup/people/almullen/smallsat/data/AOI/delta_junction/planet/deployment/composites/final_weighted/pl_delta_junction_july.shp',\n",
    "                               '/explore/nobackup/people/almullen/smallsat/data/AOI/delta_junction/planet/deployment/composites/final_weighted/pl_delta_junction_august.shp',\n",
    "                               '/explore/nobackup/people/almullen/smallsat/data/AOI/delta_junction/planet/deployment/composites/final_weighted/pl_delta_junction_september.shp',\n",
    "                               '/explore/nobackup/people/almullen/smallsat/data/AOI/birch_creek/planet/deployment/composites/final_weighted/pl_yukon_flats_may.shp',\n",
    "                               '/explore/nobackup/people/almullen/smallsat/data/AOI/birch_creek/planet/deployment/composites/final_weighted/pl_yukon_flats_june.shp',\n",
    "                               '/explore/nobackup/people/almullen/smallsat/data/AOI/birch_creek/planet/deployment/composites/final_weighted/pl_yukon_flats_july.shp',\n",
    "                               '/explore/nobackup/people/almullen/smallsat/data/AOI/birch_creek/planet/deployment/composites/final_weighted/pl_yukon_flats_august.shp',\n",
    "                               '/explore/nobackup/people/almullen/smallsat/data/AOI/birch_creek/planet/deployment/composites/final_weighted/pl_yukon_flats_september.shp',\n",
    "                               '/explore/nobackup/people/almullen/smallsat/data/AOI/YKD/planet/deployment/composites/final_weighted/ykd_3y_composite_ea.shp'\n",
    "                              ]\n",
    "\n",
    "paths_to_3y_composites = ['/explore/nobackup/people/almullen/smallsat/data/AOI/fairbanks/planet/deployment/composites/final_weighted/pl_fairbanks_3y.shp',\n",
    "                          '/explore/nobackup/people/almullen/smallsat/data/AOI/delta_junction/planet/deployment/composites/final_weighted/pl_delta_junction_3y.shp',\n",
    "                          '/explore/nobackup/people/almullen/smallsat/data/AOI/birch_creek/planet/deployment/composites/final_weighted/pl_yukon_flats_3y.shp',\n",
    "                          '/explore/nobackup/people/almullen/smallsat/data/AOI/YKD/planet/deployment/composites/final_weighted/ykd_3y_composite_ea.shp']\n",
    "\n",
    "path_to_AOI_shapefiles = '/explore/nobackup/people/almullen/smallsat/data/AOI_shapefile/all_aois.shp'\n",
    "\n",
    "path_to_BAWLD = '/explore/nobackup/people/almullen/smallsat/data/BAWLD/BAWLD_AOIs_ea.shp'"
   ]
  },
  {
   "cell_type": "code",
   "execution_count": 3,
   "id": "47406725-4d73-43df-9199-1dffef36f1f8",
   "metadata": {},
   "outputs": [],
   "source": [
    "BAWLD = gpd.read_file(path_to_BAWLD)\n",
    "\n",
    "BAWLD = BAWLD[['Cell_ID', 'LAK', 'LAL', 'LAK_L', 'LAK_H',\n",
    "               'SPL', 'SPL_L', 'SPL_H',\n",
    "               'MPL', 'MPL_L', 'MPL_H',\n",
    "               'SGL', 'SGL_L', 'SGL_H',\n",
    "               'MGL', 'MGL_L', 'MGL_H',\n",
    "               'SYL', 'SYL_L', 'SYL_H',\n",
    "               'MYL', 'MYL_L', 'MYL_H', 'geometry']]\n",
    "\n",
    "BAWLD['fSP'] = BAWLD['SPL'] / (BAWLD['SPL'] + BAWLD['SGL'] + BAWLD['SYL']) #fraction small lakes that are peatland\n",
    "BAWLD['fSG'] = BAWLD['SGL'] / (BAWLD['SPL'] + BAWLD['SGL'] + BAWLD['SYL']) #fraction small lakes that are glacial\n",
    "BAWLD['fSY'] = BAWLD['SYL'] / (BAWLD['SPL'] + BAWLD['SGL'] + BAWLD['SYL']) #fraction small lakes that are yedoma\n",
    "\n",
    "BAWLD['fMP'] = BAWLD['MPL'] / (BAWLD['MPL'] + BAWLD['MGL'] + BAWLD['MYL']) #fraction medium lakes that are peatland\n",
    "BAWLD['fMG'] = BAWLD['MGL'] / (BAWLD['MPL'] + BAWLD['MGL'] + BAWLD['MYL']) #fraction medium lakes that are glacial\n",
    "BAWLD['fMY'] = BAWLD['MYL'] / (BAWLD['MPL'] + BAWLD['MGL'] + BAWLD['MYL']) #fraction medium lakes that are yedoma\n",
    "\n",
    "BAWLD['overlap_fraction'] = np.zeros(len(BAWLD)) #overlap fraction for planet maps and tile\n",
    "BAWLD['AOI'] = np.zeros(len(BAWLD)) #empty AOI column\n",
    "\n",
    "BAWLD['LAM'] = BAWLD['MPL'] + BAWLD['MGL'] + BAWLD['MYL'] #total BAWLD percentage medium lakes\n",
    "BAWLD['LAS'] = BAWLD['SPL'] + BAWLD['SGL'] + BAWLD['SYL'] #total BAWLD percentage small lakes\n",
    "\n",
    "BAWLD['PL_LAK'] = np.zeros(len(BAWLD)) #percentage planet lakes\n",
    "BAWLD['PL_LAK_L'] = np.zeros(len(BAWLD)) #low percentage planet lakes\n",
    "BAWLD['PL_LAK_H'] = np.zeros(len(BAWLD)) #high percentage planet lakes\n",
    "\n",
    "BAWLD['PL_P'] = np.zeros(len(BAWLD)) #percentage planet ponds\n",
    "BAWLD['PL_P_L'] = np.zeros(len(BAWLD)) #low percentage planet ponds\n",
    "BAWLD['PL_P_H'] = np.zeros(len(BAWLD)) #high percentage planet ponds\n",
    "\n",
    "BAWLD['PL_S'] = np.zeros(len(BAWLD)) #percentage planet small lakes\n",
    "BAWLD['PL_S_L'] = np.zeros(len(BAWLD)) #low percentage planet small lakes\n",
    "BAWLD['PL_S_H'] = np.zeros(len(BAWLD)) #high percentage planet small lakes\n",
    "\n",
    "BAWLD['PL_M'] = np.zeros(len(BAWLD)) #percentage planet medium lakes\n",
    "BAWLD['PL_M_L'] = np.zeros(len(BAWLD)) #low percentage planet medium lakes\n",
    "BAWLD['PL_M_H'] = np.zeros(len(BAWLD)) #high percentage planet medium lakes\n",
    "\n",
    "BAWLD['PL_L'] = np.zeros(len(BAWLD)) #percentage planet large lakes\n",
    "BAWLD['PL_L_L'] = np.zeros(len(BAWLD)) #low percentage planet large lakes\n",
    "BAWLD['PL_L_H'] = np.zeros(len(BAWLD)) #high percentage planet large lakes\n",
    "\n",
    "BAWLD['area'] = BAWLD.area/1000000 #area of tile in km^2\n",
    "\n",
    "AOIs = gpd.read_file(path_to_AOI_shapefiles) #AOI shpaefile\n",
    "AOIs['aoi_area'] = AOIs['Shape_Area']/1000000 #area of AOI in km^2\n",
    "AOIs = AOIs[['AOI', 'aoi_area', 'geometry']]\n"
   ]
  },
  {
   "cell_type": "code",
   "execution_count": 4,
   "id": "ec6dfb65-f470-468e-ba13-03d7665a3a9f",
   "metadata": {},
   "outputs": [],
   "source": [
    "BAWLD.loc[np.isnan((BAWLD['fSP'])) & (np.isnan(BAWLD['fSY'])) & (np.isnan(BAWLD['fSG'])), 'fSG'] = 1\n",
    "BAWLD.loc[np.isnan((BAWLD['fSP'])) & (np.isnan(BAWLD['fSY'])) & (np.isnan(BAWLD['fSG'])), 'fSY'] = 0 \n",
    "BAWLD.loc[np.isnan((BAWLD['fSP'])) & (np.isnan(BAWLD['fSY'])) & (np.isnan(BAWLD['fSG'])), 'fSP'] = 0 \n",
    "\n",
    "BAWLD.loc[np.isnan((BAWLD['fMP'])) & (np.isnan(BAWLD['fMY'])) & (np.isnan(BAWLD['fMG'])), 'fMG'] = 1 \n",
    "BAWLD.loc[np.isnan((BAWLD['fMP'])) & (np.isnan(BAWLD['fMY'])) & (np.isnan(BAWLD['fMG'])), 'fMY'] = 0 \n",
    "BAWLD.loc[np.isnan((BAWLD['fMP'])) & (np.isnan(BAWLD['fMY'])) & (np.isnan(BAWLD['fMG'])), 'fMP'] = 0 "
   ]
  },
  {
   "cell_type": "code",
   "execution_count": 5,
   "id": "2cabc371-4de6-463b-81be-93773fde62b8",
   "metadata": {},
   "outputs": [],
   "source": [
    "#iterate over BAWLD tiles and calculate overlap\n",
    "for bawld_index, bawld_row in BAWLD.iterrows():\n",
    "    \n",
    "    max_overlap=0\n",
    "    max_overlap_aoi = ''\n",
    "    \n",
    "    for aoi_index, aoi_row in AOIs.iterrows():\n",
    "        intersection = aoi_row.geometry.intersection(bawld_row.geometry).area/bawld_row.geometry.area\n",
    "        if intersection>max_overlap:\n",
    "            max_overlap=intersection\n",
    "            max_overlap_aoi=aoi_row['AOI']\n",
    "            \n",
    "    BAWLD.at[bawld_index, 'overlap_fraction'] = max_overlap\n",
    "    BAWLD.at[bawld_index, 'AOI'] = max_overlap_aoi"
   ]
  },
  {
   "cell_type": "code",
   "execution_count": 6,
   "id": "6164ba72-3dbe-413d-ba9a-0b15ff91e80f",
   "metadata": {},
   "outputs": [],
   "source": [
    "#filter for over 90% overlap\n",
    "BAWLD = BAWLD[BAWLD['overlap_fraction']>0.9]"
   ]
  },
  {
   "cell_type": "code",
   "execution_count": 7,
   "id": "f7f0734f-d53c-4efb-ace5-5043457692cd",
   "metadata": {},
   "outputs": [
    {
     "data": {
      "text/html": [
       "<div>\n",
       "<style scoped>\n",
       "    .dataframe tbody tr th:only-of-type {\n",
       "        vertical-align: middle;\n",
       "    }\n",
       "\n",
       "    .dataframe tbody tr th {\n",
       "        vertical-align: top;\n",
       "    }\n",
       "\n",
       "    .dataframe thead th {\n",
       "        text-align: right;\n",
       "    }\n",
       "</style>\n",
       "<table border=\"1\" class=\"dataframe\">\n",
       "  <thead>\n",
       "    <tr style=\"text-align: right;\">\n",
       "      <th></th>\n",
       "      <th>Cell_ID</th>\n",
       "      <th>LAK</th>\n",
       "      <th>LAL</th>\n",
       "      <th>LAK_L</th>\n",
       "      <th>LAK_H</th>\n",
       "      <th>SPL</th>\n",
       "      <th>SPL_L</th>\n",
       "      <th>SPL_H</th>\n",
       "      <th>MPL</th>\n",
       "      <th>MPL_L</th>\n",
       "      <th>...</th>\n",
       "      <th>PL_S</th>\n",
       "      <th>PL_S_L</th>\n",
       "      <th>PL_S_H</th>\n",
       "      <th>PL_M</th>\n",
       "      <th>PL_M_L</th>\n",
       "      <th>PL_M_H</th>\n",
       "      <th>PL_L</th>\n",
       "      <th>PL_L_L</th>\n",
       "      <th>PL_L_H</th>\n",
       "      <th>area</th>\n",
       "    </tr>\n",
       "  </thead>\n",
       "  <tbody>\n",
       "    <tr>\n",
       "      <th>3</th>\n",
       "      <td>12440</td>\n",
       "      <td>7.60</td>\n",
       "      <td>0.00</td>\n",
       "      <td>7.25</td>\n",
       "      <td>7.96</td>\n",
       "      <td>0.47</td>\n",
       "      <td>0.47</td>\n",
       "      <td>1.34</td>\n",
       "      <td>1.55</td>\n",
       "      <td>1.21</td>\n",
       "      <td>...</td>\n",
       "      <td>0.0</td>\n",
       "      <td>0.0</td>\n",
       "      <td>0.0</td>\n",
       "      <td>0.0</td>\n",
       "      <td>0.0</td>\n",
       "      <td>0.0</td>\n",
       "      <td>0.0</td>\n",
       "      <td>0.0</td>\n",
       "      <td>0.0</td>\n",
       "      <td>1253.363633</td>\n",
       "    </tr>\n",
       "    <tr>\n",
       "      <th>4</th>\n",
       "      <td>13041</td>\n",
       "      <td>1.96</td>\n",
       "      <td>0.00</td>\n",
       "      <td>1.92</td>\n",
       "      <td>2.40</td>\n",
       "      <td>0.32</td>\n",
       "      <td>0.32</td>\n",
       "      <td>1.13</td>\n",
       "      <td>0.18</td>\n",
       "      <td>0.17</td>\n",
       "      <td>...</td>\n",
       "      <td>0.0</td>\n",
       "      <td>0.0</td>\n",
       "      <td>0.0</td>\n",
       "      <td>0.0</td>\n",
       "      <td>0.0</td>\n",
       "      <td>0.0</td>\n",
       "      <td>0.0</td>\n",
       "      <td>0.0</td>\n",
       "      <td>0.0</td>\n",
       "      <td>1228.564071</td>\n",
       "    </tr>\n",
       "    <tr>\n",
       "      <th>5</th>\n",
       "      <td>12441</td>\n",
       "      <td>7.20</td>\n",
       "      <td>0.00</td>\n",
       "      <td>7.07</td>\n",
       "      <td>7.74</td>\n",
       "      <td>0.62</td>\n",
       "      <td>0.62</td>\n",
       "      <td>1.32</td>\n",
       "      <td>1.63</td>\n",
       "      <td>1.27</td>\n",
       "      <td>...</td>\n",
       "      <td>0.0</td>\n",
       "      <td>0.0</td>\n",
       "      <td>0.0</td>\n",
       "      <td>0.0</td>\n",
       "      <td>0.0</td>\n",
       "      <td>0.0</td>\n",
       "      <td>0.0</td>\n",
       "      <td>0.0</td>\n",
       "      <td>0.0</td>\n",
       "      <td>1253.363632</td>\n",
       "    </tr>\n",
       "    <tr>\n",
       "      <th>7</th>\n",
       "      <td>6780</td>\n",
       "      <td>27.50</td>\n",
       "      <td>13.51</td>\n",
       "      <td>26.41</td>\n",
       "      <td>28.02</td>\n",
       "      <td>2.18</td>\n",
       "      <td>2.18</td>\n",
       "      <td>2.83</td>\n",
       "      <td>3.23</td>\n",
       "      <td>2.67</td>\n",
       "      <td>...</td>\n",
       "      <td>0.0</td>\n",
       "      <td>0.0</td>\n",
       "      <td>0.0</td>\n",
       "      <td>0.0</td>\n",
       "      <td>0.0</td>\n",
       "      <td>0.0</td>\n",
       "      <td>0.0</td>\n",
       "      <td>0.0</td>\n",
       "      <td>0.0</td>\n",
       "      <td>1495.463654</td>\n",
       "    </tr>\n",
       "    <tr>\n",
       "      <th>11</th>\n",
       "      <td>10628</td>\n",
       "      <td>0.36</td>\n",
       "      <td>0.00</td>\n",
       "      <td>0.28</td>\n",
       "      <td>0.36</td>\n",
       "      <td>0.00</td>\n",
       "      <td>0.00</td>\n",
       "      <td>0.00</td>\n",
       "      <td>0.00</td>\n",
       "      <td>0.00</td>\n",
       "      <td>...</td>\n",
       "      <td>0.0</td>\n",
       "      <td>0.0</td>\n",
       "      <td>0.0</td>\n",
       "      <td>0.0</td>\n",
       "      <td>0.0</td>\n",
       "      <td>0.0</td>\n",
       "      <td>0.0</td>\n",
       "      <td>0.0</td>\n",
       "      <td>0.0</td>\n",
       "      <td>1327.145772</td>\n",
       "    </tr>\n",
       "  </tbody>\n",
       "</table>\n",
       "<p>5 rows × 50 columns</p>\n",
       "</div>"
      ],
      "text/plain": [
       "    Cell_ID    LAK    LAL  LAK_L  LAK_H   SPL  SPL_L  SPL_H   MPL  MPL_L  ...  \\\n",
       "3     12440   7.60   0.00   7.25   7.96  0.47   0.47   1.34  1.55   1.21  ...   \n",
       "4     13041   1.96   0.00   1.92   2.40  0.32   0.32   1.13  0.18   0.17  ...   \n",
       "5     12441   7.20   0.00   7.07   7.74  0.62   0.62   1.32  1.63   1.27  ...   \n",
       "7      6780  27.50  13.51  26.41  28.02  2.18   2.18   2.83  3.23   2.67  ...   \n",
       "11    10628   0.36   0.00   0.28   0.36  0.00   0.00   0.00  0.00   0.00  ...   \n",
       "\n",
       "    PL_S  PL_S_L  PL_S_H  PL_M  PL_M_L  PL_M_H  PL_L  PL_L_L  PL_L_H  \\\n",
       "3    0.0     0.0     0.0   0.0     0.0     0.0   0.0     0.0     0.0   \n",
       "4    0.0     0.0     0.0   0.0     0.0     0.0   0.0     0.0     0.0   \n",
       "5    0.0     0.0     0.0   0.0     0.0     0.0   0.0     0.0     0.0   \n",
       "7    0.0     0.0     0.0   0.0     0.0     0.0   0.0     0.0     0.0   \n",
       "11   0.0     0.0     0.0   0.0     0.0     0.0   0.0     0.0     0.0   \n",
       "\n",
       "           area  \n",
       "3   1253.363633  \n",
       "4   1228.564071  \n",
       "5   1253.363632  \n",
       "7   1495.463654  \n",
       "11  1327.145772  \n",
       "\n",
       "[5 rows x 50 columns]"
      ]
     },
     "execution_count": 7,
     "metadata": {},
     "output_type": "execute_result"
    }
   ],
   "source": [
    "BAWLD.head(5)"
   ]
  },
  {
   "cell_type": "code",
   "execution_count": 8,
   "id": "ee304693-d1ca-4028-84d9-c0535895614f",
   "metadata": {},
   "outputs": [],
   "source": [
    "composite_gdfs = []"
   ]
  },
  {
   "cell_type": "code",
   "execution_count": 9,
   "id": "df9f454b-0f99-440f-a9ec-9d92455dbaa0",
   "metadata": {},
   "outputs": [],
   "source": [
    "months = ['May', 'June', 'July', 'August', 'September']\n",
    "#months = ['3y', '3y', '3y']"
   ]
  },
  {
   "cell_type": "code",
   "execution_count": 10,
   "id": "1f1fbc82-0d98-44a3-aebe-c15db4b88ef0",
   "metadata": {},
   "outputs": [],
   "source": [
    "def explode(gdf):\n",
    "    \"\"\"    \n",
    "    Will explode the geodataframe's muti-part geometries into single \n",
    "    geometries. Each row containing a multi-part geometry will be split into\n",
    "    multiple rows with single geometries, thereby increasing the vertical size\n",
    "    of the geodataframe. The index of the input geodataframe is no longer\n",
    "    unique and is replaced with a multi-index. \n",
    "\n",
    "    The output geodataframe has an index based on two columns (multi-index) \n",
    "    i.e. 'level_0' (index of input geodataframe) and 'level_1' which is a new\n",
    "    zero-based index for each single part geometry per multi-part geometry\n",
    "\n",
    "    Args:\n",
    "        gdf (gpd.GeoDataFrame) : input geodataframe with multi-geometries\n",
    "\n",
    "    Returns:\n",
    "        gdf (gpd.GeoDataFrame) : exploded geodataframe with each single \n",
    "                                 geometry as a separate entry in the \n",
    "                                 geodataframe. The GeoDataFrame has a multi-\n",
    "                                 index set to columns level_0 and level_1\n",
    "\n",
    "    \"\"\"\n",
    "    gs = gdf.explode()\n",
    "    gdf2 = gs.reset_index().rename(columns={0: 'geometry'})\n",
    "    gdf_out = gdf2.merge(gdf.drop('geometry', axis=1), left_on='level_0', right_index=True)\n",
    "    gdf_out = gdf_out.set_index(['level_0', 'level_1']).set_geometry('geometry')\n",
    "    gdf_out.crs = gdf.crs\n",
    "    return gdf_out"
   ]
  },
  {
   "cell_type": "code",
   "execution_count": 11,
   "id": "931fadf9-5ff7-44da-8183-cde4cc3f9b17",
   "metadata": {},
   "outputs": [],
   "source": [
    "#iterate through monthly composites and read in water bodies\n",
    "i=0\n",
    "#for composite in paths_to_3y_composites:\n",
    "for composite in paths_to_monthly_composites:\n",
    "    \n",
    "    if i==5:\n",
    "        i=0\n",
    "        \n",
    "    gdf = gpd.read_file(composite)\n",
    "    #gdf=gdf.loc[gdf['gridcode']==1] #for Sentinel-2 maps\n",
    "    gdf = gdf.to_crs('ESRI:102001')\n",
    "    gdf['AOI'] = [composite.split('/')[8]]*len(gdf)\n",
    "    \n",
    "    if composite.split('/')[8]=='YKD':\n",
    "        gdf['area'] = gdf['geometry'].area #area in m\n",
    "        gdf['date'] = ['3y']*len(gdf)\n",
    "        \n",
    "    else:\n",
    "        gdf['area'] = gdf['geometry'].area #area in m\n",
    "        gdf['date'] = [months[i]]*len(gdf)\n",
    "        \n",
    "    composite_gdfs.append(gdf)\n",
    "    i+=1"
   ]
  },
  {
   "cell_type": "code",
   "execution_count": 12,
   "id": "d8b6b0e2-aff1-4497-b135-f9f45fde8448",
   "metadata": {},
   "outputs": [],
   "source": [
    "composite_gdfs = pd.concat(composite_gdfs) #concatenate geodataframes\n",
    "\n",
    "composite_gdfs['area'] = composite_gdfs['area']/1000000 #change area to km^2\n",
    " \n",
    "composite_gdfs.loc[composite_gdfs['area']>10, 'wb_class'] = 'large' #classify large lakes\n",
    "\n",
    "composite_gdfs.loc[(composite_gdfs['area']>0.1)&(composite_gdfs['area']<=10), 'wb_class'] = 'medium' #classify medium lakes\n",
    "\n",
    "composite_gdfs.loc[(composite_gdfs['area']<=0.1) & (composite_gdfs['area']>0.01), 'wb_class'] = 'small' #classify small lakes\n",
    "\n",
    "composite_gdfs.loc[composite_gdfs['area']<=0.01, 'wb_class'] = 'pond' #classify ponds"
   ]
  },
  {
   "cell_type": "code",
   "execution_count": 13,
   "id": "7cd238c4-7f21-446d-9d2a-7a991b12cb77",
   "metadata": {},
   "outputs": [],
   "source": [
    "dates = ['May', 'June', 'July', 'August', 'September']\n",
    "#dates = months"
   ]
  },
  {
   "cell_type": "code",
   "execution_count": 14,
   "id": "0382124c-d9f9-47ca-b0a8-3be197bca56f",
   "metadata": {},
   "outputs": [
    {
     "name": "stdout",
     "output_type": "stream",
     "text": [
      "12440   birch_creek BAWLD lake fraction: 7.25 - 7.96\n"
     ]
    },
    {
     "name": "stderr",
     "output_type": "stream",
     "text": [
      "/panfs/ccds02/nobackup/people/almullen/.conda/envs/smallsat/lib/python3.9/site-packages/numpy/core/fromnumeric.py:3440: RuntimeWarning: Mean of empty slice.\n",
      "  return _methods._mean(a, axis=axis, dtype=dtype,\n",
      "/panfs/ccds02/nobackup/people/almullen/.conda/envs/smallsat/lib/python3.9/site-packages/numpy/core/_methods.py:189: RuntimeWarning: invalid value encountered in double_scalars\n",
      "  ret = ret.dtype.type(ret / rcount)\n"
     ]
    },
    {
     "name": "stdout",
     "output_type": "stream",
     "text": [
      "Planet: 5.210810056543449 - 5.960539468501039\n",
      "----------------\n",
      "13041   birch_creek BAWLD lake fraction: 1.92 - 2.4\n"
     ]
    },
    {
     "name": "stderr",
     "output_type": "stream",
     "text": [
      "/panfs/ccds02/nobackup/people/almullen/.conda/envs/smallsat/lib/python3.9/site-packages/numpy/core/fromnumeric.py:3440: RuntimeWarning: Mean of empty slice.\n",
      "  return _methods._mean(a, axis=axis, dtype=dtype,\n",
      "/panfs/ccds02/nobackup/people/almullen/.conda/envs/smallsat/lib/python3.9/site-packages/numpy/core/_methods.py:189: RuntimeWarning: invalid value encountered in double_scalars\n",
      "  ret = ret.dtype.type(ret / rcount)\n"
     ]
    },
    {
     "name": "stdout",
     "output_type": "stream",
     "text": [
      "Planet: 1.4710462501565593 - 1.704714776685226\n",
      "----------------\n",
      "12441   birch_creek BAWLD lake fraction: 7.07 - 7.74\n"
     ]
    },
    {
     "name": "stderr",
     "output_type": "stream",
     "text": [
      "/panfs/ccds02/nobackup/people/almullen/.conda/envs/smallsat/lib/python3.9/site-packages/numpy/core/fromnumeric.py:3440: RuntimeWarning: Mean of empty slice.\n",
      "  return _methods._mean(a, axis=axis, dtype=dtype,\n",
      "/panfs/ccds02/nobackup/people/almullen/.conda/envs/smallsat/lib/python3.9/site-packages/numpy/core/_methods.py:189: RuntimeWarning: invalid value encountered in double_scalars\n",
      "  ret = ret.dtype.type(ret / rcount)\n"
     ]
    },
    {
     "name": "stdout",
     "output_type": "stream",
     "text": [
      "Planet: 5.601973462895324 - 6.356785401749638\n",
      "----------------\n",
      "6780   YKD BAWLD lake fraction: 26.41 - 28.02\n",
      "Planet: 51.64038154553446 - 51.64038154553446\n",
      "----------------\n",
      "10628   fairbanks BAWLD lake fraction: 0.28 - 0.36\n"
     ]
    },
    {
     "name": "stderr",
     "output_type": "stream",
     "text": [
      "/panfs/ccds02/nobackup/people/almullen/.conda/envs/smallsat/lib/python3.9/site-packages/numpy/core/fromnumeric.py:3440: RuntimeWarning: Mean of empty slice.\n",
      "  return _methods._mean(a, axis=axis, dtype=dtype,\n",
      "/panfs/ccds02/nobackup/people/almullen/.conda/envs/smallsat/lib/python3.9/site-packages/numpy/core/_methods.py:189: RuntimeWarning: invalid value encountered in double_scalars\n",
      "  ret = ret.dtype.type(ret / rcount)\n"
     ]
    },
    {
     "name": "stdout",
     "output_type": "stream",
     "text": [
      "Planet: 0.3114900445838006 - 0.3583238923539783\n",
      "----------------\n",
      "9473   delta_junction BAWLD lake fraction: 0.25 - 0.53\n"
     ]
    },
    {
     "name": "stderr",
     "output_type": "stream",
     "text": [
      "/panfs/ccds02/nobackup/people/almullen/.conda/envs/smallsat/lib/python3.9/site-packages/numpy/core/fromnumeric.py:3440: RuntimeWarning: Mean of empty slice.\n",
      "  return _methods._mean(a, axis=axis, dtype=dtype,\n",
      "/panfs/ccds02/nobackup/people/almullen/.conda/envs/smallsat/lib/python3.9/site-packages/numpy/core/_methods.py:189: RuntimeWarning: invalid value encountered in double_scalars\n",
      "  ret = ret.dtype.type(ret / rcount)\n"
     ]
    },
    {
     "name": "stdout",
     "output_type": "stream",
     "text": [
      "Planet: 1.4315278568599266 - 1.5705163498816208\n",
      "----------------\n",
      "10630   fairbanks BAWLD lake fraction: 0.69 - 1.14\n"
     ]
    },
    {
     "name": "stderr",
     "output_type": "stream",
     "text": [
      "/panfs/ccds02/nobackup/people/almullen/.conda/envs/smallsat/lib/python3.9/site-packages/numpy/core/fromnumeric.py:3440: RuntimeWarning: Mean of empty slice.\n",
      "  return _methods._mean(a, axis=axis, dtype=dtype,\n",
      "/panfs/ccds02/nobackup/people/almullen/.conda/envs/smallsat/lib/python3.9/site-packages/numpy/core/_methods.py:189: RuntimeWarning: invalid value encountered in double_scalars\n",
      "  ret = ret.dtype.type(ret / rcount)\n"
     ]
    },
    {
     "name": "stdout",
     "output_type": "stream",
     "text": [
      "Planet: 0.8277277548043698 - 0.9019790732332265\n",
      "----------------\n",
      "9475   delta_junction BAWLD lake fraction: 0.0 - 0.0\n"
     ]
    },
    {
     "name": "stderr",
     "output_type": "stream",
     "text": [
      "/panfs/ccds02/nobackup/people/almullen/.conda/envs/smallsat/lib/python3.9/site-packages/numpy/core/fromnumeric.py:3440: RuntimeWarning: Mean of empty slice.\n",
      "  return _methods._mean(a, axis=axis, dtype=dtype,\n",
      "/panfs/ccds02/nobackup/people/almullen/.conda/envs/smallsat/lib/python3.9/site-packages/numpy/core/_methods.py:189: RuntimeWarning: invalid value encountered in double_scalars\n",
      "  ret = ret.dtype.type(ret / rcount)\n"
     ]
    },
    {
     "name": "stdout",
     "output_type": "stream",
     "text": [
      "Planet: 0.08593490667135235 - 0.09982222217969568\n",
      "----------------\n",
      "13043   birch_creek BAWLD lake fraction: 6.52 - 9.06\n"
     ]
    },
    {
     "name": "stderr",
     "output_type": "stream",
     "text": [
      "/panfs/ccds02/nobackup/people/almullen/.conda/envs/smallsat/lib/python3.9/site-packages/numpy/core/fromnumeric.py:3440: RuntimeWarning: Mean of empty slice.\n",
      "  return _methods._mean(a, axis=axis, dtype=dtype,\n",
      "/panfs/ccds02/nobackup/people/almullen/.conda/envs/smallsat/lib/python3.9/site-packages/numpy/core/_methods.py:189: RuntimeWarning: invalid value encountered in double_scalars\n",
      "  ret = ret.dtype.type(ret / rcount)\n"
     ]
    },
    {
     "name": "stdout",
     "output_type": "stream",
     "text": [
      "Planet: 6.01860224579384 - 7.016635582263749\n",
      "----------------\n",
      "10629   fairbanks BAWLD lake fraction: 0.32 - 0.74\n"
     ]
    },
    {
     "name": "stderr",
     "output_type": "stream",
     "text": [
      "/panfs/ccds02/nobackup/people/almullen/.conda/envs/smallsat/lib/python3.9/site-packages/numpy/core/fromnumeric.py:3440: RuntimeWarning: Mean of empty slice.\n",
      "  return _methods._mean(a, axis=axis, dtype=dtype,\n",
      "/panfs/ccds02/nobackup/people/almullen/.conda/envs/smallsat/lib/python3.9/site-packages/numpy/core/_methods.py:189: RuntimeWarning: invalid value encountered in double_scalars\n",
      "  ret = ret.dtype.type(ret / rcount)\n"
     ]
    },
    {
     "name": "stdout",
     "output_type": "stream",
     "text": [
      "Planet: 0.7671878979173652 - 0.8816682561323341\n",
      "----------------\n",
      "9474   delta_junction BAWLD lake fraction: 0.23 - 0.78\n"
     ]
    },
    {
     "name": "stderr",
     "output_type": "stream",
     "text": [
      "/panfs/ccds02/nobackup/people/almullen/.conda/envs/smallsat/lib/python3.9/site-packages/numpy/core/fromnumeric.py:3440: RuntimeWarning: Mean of empty slice.\n",
      "  return _methods._mean(a, axis=axis, dtype=dtype,\n",
      "/panfs/ccds02/nobackup/people/almullen/.conda/envs/smallsat/lib/python3.9/site-packages/numpy/core/_methods.py:189: RuntimeWarning: invalid value encountered in double_scalars\n",
      "  ret = ret.dtype.type(ret / rcount)\n"
     ]
    },
    {
     "name": "stdout",
     "output_type": "stream",
     "text": [
      "Planet: 0.7412597566375349 - 0.8580029978516669\n",
      "----------------\n",
      "13042   birch_creek BAWLD lake fraction: 2.21 - 6.12\n"
     ]
    },
    {
     "name": "stderr",
     "output_type": "stream",
     "text": [
      "/panfs/ccds02/nobackup/people/almullen/.conda/envs/smallsat/lib/python3.9/site-packages/numpy/core/fromnumeric.py:3440: RuntimeWarning: Mean of empty slice.\n",
      "  return _methods._mean(a, axis=axis, dtype=dtype,\n",
      "/panfs/ccds02/nobackup/people/almullen/.conda/envs/smallsat/lib/python3.9/site-packages/numpy/core/_methods.py:189: RuntimeWarning: invalid value encountered in double_scalars\n",
      "  ret = ret.dtype.type(ret / rcount)\n"
     ]
    },
    {
     "name": "stdout",
     "output_type": "stream",
     "text": [
      "Planet: 1.858924069007169 - 2.1871600181247106\n",
      "----------------\n",
      "6781   YKD BAWLD lake fraction: 15.62 - 16.71\n",
      "Planet: 23.328251768580113 - 23.328251768580113\n",
      "----------------\n",
      "12439   birch_creek BAWLD lake fraction: 5.78 - 8.42\n"
     ]
    },
    {
     "name": "stderr",
     "output_type": "stream",
     "text": [
      "/panfs/ccds02/nobackup/people/almullen/.conda/envs/smallsat/lib/python3.9/site-packages/numpy/core/fromnumeric.py:3440: RuntimeWarning: Mean of empty slice.\n",
      "  return _methods._mean(a, axis=axis, dtype=dtype,\n",
      "/panfs/ccds02/nobackup/people/almullen/.conda/envs/smallsat/lib/python3.9/site-packages/numpy/core/_methods.py:189: RuntimeWarning: invalid value encountered in double_scalars\n",
      "  ret = ret.dtype.type(ret / rcount)\n"
     ]
    },
    {
     "name": "stdout",
     "output_type": "stream",
     "text": [
      "Planet: 4.374182753227451 - 4.958540099104613\n",
      "----------------\n",
      "6782   YKD BAWLD lake fraction: 17.54 - 19.28\n",
      "Planet: 25.216454879029616 - 25.216454879029616\n",
      "----------------\n"
     ]
    }
   ],
   "source": [
    "#iterate through BAWLD tiles and fill in fields for fraction of water body sizes and types based on Planet maps\n",
    "for bawld_index, bawld_row in BAWLD.iterrows():\n",
    "    \n",
    "    print(str(bawld_row['Cell_ID']) + '   ' + bawld_row['AOI'] + ' BAWLD lake fraction: ' + str(bawld_row['LAK_L']) + ' - ' +str(bawld_row['LAK_H']) )\n",
    "\n",
    "    wbs_clipped = composite_gdfs.clip(bawld_row.geometry) #clip geodataframe to BAWLD tile\n",
    "    wbs_grouped = wbs_clipped.groupby(by=['AOI', 'date', 'wb_class']).sum() #sum areas for for each water body class, grouping indices for AOI and date\n",
    "    wbs_grouped = wbs_grouped.reset_index()\n",
    "    wbs_grouped['fraction'] = wbs_grouped['area']/bawld_row['area'] * 100 #calculate fraction of large, medium, small and ponds\n",
    "    \n",
    "    if bawld_row['AOI'] != 'YKD':\n",
    "        for date in dates: #loop through dates and add pond fraction and area to to small lake fraction and area for direct comparison with BAWLD\n",
    "            #date = '3y'\n",
    "            wbs_grouped.loc[(wbs_grouped['wb_class']=='small')&(wbs_grouped['date']==date), 'fraction'] = wbs_grouped.loc[(wbs_grouped['wb_class']=='small')&(wbs_grouped['date']==date)]['fraction'].values[0] + wbs_grouped.loc[(wbs_grouped['wb_class']=='pond')&(wbs_grouped['date']==date)]['fraction'].values[0]\n",
    "            wbs_grouped.loc[(wbs_grouped['wb_class']=='small')&(wbs_grouped['date']==date), 'area'] = wbs_grouped.loc[(wbs_grouped['wb_class']=='small')&(wbs_grouped['date']==date)]['area'].values[0] + wbs_grouped.loc[(wbs_grouped['wb_class']=='pond')&(wbs_grouped['date']==date)]['area'].values[0]\n",
    "    else: #special case for YKD since we only have 3-year composite\n",
    "        \n",
    "        wbs_grouped.loc[(wbs_grouped['wb_class']=='small')&(wbs_grouped['date']=='3y'), 'fraction'] = wbs_grouped.loc[(wbs_grouped['wb_class']=='small')&(wbs_grouped['date']=='3y')]['fraction'].values[0]+wbs_grouped.loc[(wbs_grouped['wb_class']=='pond')&(wbs_grouped['date']=='3y')]['fraction'].values[0]\n",
    "        wbs_grouped.loc[(wbs_grouped['wb_class']=='small')&(wbs_grouped['date']=='3y'), 'area'] = wbs_grouped.loc[(wbs_grouped['wb_class']=='small')&(wbs_grouped['date']=='3y')]['area'].values[0]+wbs_grouped.loc[(wbs_grouped['wb_class']=='pond')&(wbs_grouped['date']=='3y')]['area'].values[0]\n",
    "    \n",
    "    #total lake fraction\n",
    "    BAWLD.at[bawld_index, 'PL_LAK'] = np.sum(wbs_grouped.loc[(wbs_grouped['wb_class']=='small')|(wbs_grouped['wb_class']=='medium')|(wbs_grouped['wb_class']=='large')].groupby('wb_class').median()['fraction'])\n",
    "    #low estimate lake fraction\n",
    "    BAWLD.at[bawld_index, 'PL_LAK_L'] = np.sum(wbs_grouped.loc[(wbs_grouped['wb_class']=='small')|(wbs_grouped['wb_class']=='medium')|(wbs_grouped['wb_class']=='large')].groupby('wb_class').min()['fraction'])\n",
    "    #high estimate lake fraction\n",
    "    BAWLD.at[bawld_index, 'PL_LAK_H'] = np.sum(wbs_grouped.loc[(wbs_grouped['wb_class']=='small')|(wbs_grouped['wb_class']=='medium')|(wbs_grouped['wb_class']=='large')].groupby('wb_class').max()['fraction'])\n",
    "    \n",
    "    #pond fraction\n",
    "    BAWLD.at[bawld_index, 'PL_P'] = np.median(wbs_grouped.loc[wbs_grouped['wb_class']=='pond']['fraction'])\n",
    "    #low estimate pond fraction\n",
    "    BAWLD.at[bawld_index, 'PL_P_L'] = np.min(wbs_grouped.loc[wbs_grouped['wb_class']=='pond']['fraction'])\n",
    "    #high estimate pond fraction\n",
    "    BAWLD.at[bawld_index, 'PL_P_H'] = np.max(wbs_grouped.loc[wbs_grouped['wb_class']=='pond']['fraction'])\n",
    "\n",
    "    #small lake fraction (includes ponds)\n",
    "    BAWLD.at[bawld_index, 'PL_S'] = np.median(wbs_grouped.loc[wbs_grouped['wb_class']=='small']['fraction'])\n",
    "    #small lake fraction low estimate\n",
    "    BAWLD.at[bawld_index, 'PL_S_L'] = np.min(wbs_grouped.loc[wbs_grouped['wb_class']=='small']['fraction'])\n",
    "    #small lake fraction high estimate\n",
    "    BAWLD.at[bawld_index, 'PL_S_H'] = np.max(wbs_grouped.loc[wbs_grouped['wb_class']=='small']['fraction'])\n",
    "\n",
    "    #medium lake fraction\n",
    "    BAWLD.at[bawld_index, 'PL_M'] = np.median(wbs_grouped.loc[wbs_grouped['wb_class']=='medium']['fraction'])\n",
    "    #low estimate medium lake fraction\n",
    "    BAWLD.at[bawld_index, 'PL_M_L'] = np.min(wbs_grouped.loc[wbs_grouped['wb_class']=='medium']['fraction'])\n",
    "    #high estimate medium lake fraction\n",
    "    BAWLD.at[bawld_index, 'PL_M_H'] = np.max(wbs_grouped.loc[wbs_grouped['wb_class']=='medium']['fraction'])\n",
    "\n",
    "    #large lake fraction\n",
    "    BAWLD.at[bawld_index, 'PL_L'] = np.median(wbs_grouped.loc[wbs_grouped['wb_class']=='large']['fraction'])\n",
    "    #low estimate large lake fraction\n",
    "    BAWLD.at[bawld_index, 'PL_L_L'] = np.min(wbs_grouped.loc[wbs_grouped['wb_class']=='large']['fraction'])\n",
    "    #high estimate large lake fraction\n",
    "    BAWLD.at[bawld_index, 'PL_L_H'] = np.max(wbs_grouped.loc[wbs_grouped['wb_class']=='large']['fraction'])\n",
    "\n",
    "    print('Planet: ' + str(np.sum(wbs_grouped.groupby('wb_class').min()['fraction'])) + ' - ' + str(np.sum(wbs_grouped.groupby('wb_class').max()['fraction'])))\n",
    "    #print(wbs_grouped.groupby('wb_class').max()[['AOI', 'fraction']])\n",
    "    print('----------------')\n",
    "    "
   ]
  },
  {
   "cell_type": "code",
   "execution_count": 15,
   "id": "44ddf32e-6a4b-449a-ba05-d1f81a911979",
   "metadata": {},
   "outputs": [],
   "source": [
    "BAWLD = BAWLD.drop(columns = 'geometry')"
   ]
  },
  {
   "cell_type": "code",
   "execution_count": 16,
   "id": "319e5eb2-0ec7-4f99-af9e-0b8a4cfa00b1",
   "metadata": {},
   "outputs": [],
   "source": [
    "#partition ponds, small, and medium lakes into different genesis types (peatland, glacial, yedoma)\n",
    "BAWLD['PL_PPL'] = BAWLD['PL_P'] * BAWLD['fSP'] #percentage peatland ponds\n",
    "BAWLD['PL_PGL'] = BAWLD['PL_P'] * BAWLD['fSG'] #percentage glacial ponds \n",
    "BAWLD['PL_PYL'] = BAWLD['PL_P'] * BAWLD['fSY'] #percentage yedoma ponds\n",
    "\n",
    "BAWLD['PL_PPL_L'] = BAWLD['PL_P_L'] * BAWLD['fSP'] #low percentage peatland ponds\n",
    "BAWLD['PL_PGL_L'] = BAWLD['PL_P_L'] * BAWLD['fSG'] #low percentage glacial ponds \n",
    "BAWLD['PL_PYL_L'] = BAWLD['PL_P_L'] * BAWLD['fSY'] #low percentage yedoma ponds\n",
    "\n",
    "BAWLD['PL_PPL_H'] = BAWLD['PL_P_H'] * BAWLD['fSP'] #high percentage peatland ponds\n",
    "BAWLD['PL_PGL_H'] = BAWLD['PL_P_H'] * BAWLD['fSG'] #high percentage glacial ponds \n",
    "BAWLD['PL_PYL_H'] = BAWLD['PL_P_H'] * BAWLD['fSY'] #high percentage yedoma ponds\n",
    "\n",
    "BAWLD['PL_SPL'] = BAWLD['PL_S'] * BAWLD['fSP'] #percentage small peatland lakes\n",
    "BAWLD['PL_SGL'] = BAWLD['PL_S'] * BAWLD['fSG'] #percentage small glacial lakes\n",
    "BAWLD['PL_SYL'] = BAWLD['PL_S'] * BAWLD['fSY'] #percentage small yedoma lakes\n",
    "\n",
    "BAWLD['PL_MPL'] = BAWLD['PL_M'] * BAWLD['fMP'] #percentage medium peatland lakes\n",
    "BAWLD['PL_MGL'] = BAWLD['PL_M'] * BAWLD['fMG'] #percentage medium glacial lakes\n",
    "BAWLD['PL_MYL'] = BAWLD['PL_M'] * BAWLD['fMY'] #percentage medium yedoma lakes"
   ]
  },
  {
   "cell_type": "code",
   "execution_count": 17,
   "id": "beac24c6-458e-45e3-ad99-8ab2bb8fd3b5",
   "metadata": {},
   "outputs": [],
   "source": [
    "BAWLD['area_m'] = BAWLD['area'] * 1000000 #create column for tile area in meters for upscaling"
   ]
  },
  {
   "cell_type": "code",
   "execution_count": 18,
   "id": "12967196-5712-41aa-928c-2a153ff45dcf",
   "metadata": {},
   "outputs": [],
   "source": [
    "#calculate total methane based on BAWLD (units in mg CH4/m2/day)\n",
    "#flux values for different lake sizes and types derived from sum of median ebullition and diffusion values from Kuhn et al., 2021\n",
    "BAWLD = BAWLD.fillna(0)\n",
    "\n",
    "#calculate methane from all water bodies based on BAWLD water body size and type fractions\n",
    "BAWLD['lake_methane'] = ((BAWLD['area_m']*(BAWLD['SPL']/100)) * 38.9 + (BAWLD['area_m']*(BAWLD['SYL']/100)) * 108.8 + (BAWLD['area_m']*(BAWLD['SGL']/100)) * 19.1 + (BAWLD['area_m']*(BAWLD['MPL']/100)) * 63.5 + (BAWLD['area_m']*(BAWLD['MYL']/100)) * 14.3 + (BAWLD['area_m']*(BAWLD['MGL']/100)) * 6.75)/(BAWLD['area_m'])\n",
    "\n",
    "#calculate methane from all planet water bodies\n",
    "BAWLD['pl_lake_methane'] = ((BAWLD['area_m']*(BAWLD['PL_SPL']/100)) * 38.9 + (BAWLD['area_m']*(BAWLD['PL_SYL']/100)) * 108.8 + (BAWLD['area_m']*(BAWLD['PL_SGL']/100)) * 19.1 + (BAWLD['area_m']*(BAWLD['PL_MPL']/100)) * 63.5 + (BAWLD['area_m']*(BAWLD['PL_MYL']/100)) * 14.3 + (BAWLD['area_m']*(BAWLD['PL_MGL']/100)) * 6.75)/(BAWLD['area_m'])\n",
    "\n",
    "#calculate methane for ponds (area < 0.01 km^2)\n",
    "BAWLD['pl_pond_methane'] = ((BAWLD['area_m']*(BAWLD['PL_PPL']/100)) * 38.9 + (BAWLD['area_m']*(BAWLD['PL_PYL']/100)) * 108.8 + (BAWLD['area_m']*(BAWLD['PL_PGL']/100)) * 19.1)/(BAWLD['area_m'])\n",
    "BAWLD['pl_pond_methane_low'] = ((BAWLD['area_m']*(BAWLD['PL_PPL_L']/100)) * 38.9 + (BAWLD['area_m']*(BAWLD['PL_PYL_L']/100)) * 108.8 + (BAWLD['area_m']*(BAWLD['PL_PGL_L']/100)) * 19.1)/(BAWLD['area_m'])\n",
    "BAWLD['pl_pond_methane_high'] = ((BAWLD['area_m']*(BAWLD['PL_PPL_H']/100)) * 38.9 + (BAWLD['area_m']*(BAWLD['PL_PYL_H']/100)) * 108.8 + (BAWLD['area_m']*(BAWLD['PL_PGL_H']/100)) * 19.1)/(BAWLD['area_m'])\n",
    "\n",
    "#separate calculation for total water body methane for YKD since it has large lakes and the others don't\n",
    "BAWLD.loc[BAWLD['AOI']=='YKD','lake_methane'] = ((BAWLD['area_m']*(BAWLD['LAL'])/100) * 3.8 + (BAWLD['area_m']*(BAWLD['SPL']/100)) * 38.9 + (BAWLD['area_m']*(BAWLD['SYL']/100)) * 108.8 + (BAWLD['area_m']*(BAWLD['SGL']/100)) * 19.1 + (BAWLD['area_m']*(BAWLD['MPL']/100)) * 63.5 + (BAWLD['area_m']*(BAWLD['MYL']/100)) * 14.3 + (BAWLD['area_m']*(BAWLD['MGL']/100)) * 6.75)/(BAWLD['area_m'])\n",
    "BAWLD.loc[BAWLD['AOI']=='YKD','pl_lake_methane'] = ((BAWLD['area_m']*(BAWLD['PL_L'])/100) * 3.8 + (BAWLD['area_m']*(BAWLD['PL_SPL']/100)) * 38.9 + (BAWLD['area_m']*(BAWLD['PL_SYL']/100)) * 108.8 + (BAWLD['area_m']*(BAWLD['PL_SGL']/100)) * 19.1 + (BAWLD['area_m']*(BAWLD['PL_MPL']/100)) * 63.5 + (BAWLD['area_m']*(BAWLD['PL_MYL']/100)) * 14.3 + (BAWLD['area_m']*(BAWLD['PL_MGL']/100)) * 6.75)/(BAWLD['area_m'])"
   ]
  },
  {
   "cell_type": "code",
   "execution_count": 19,
   "id": "11b0bfe7-7cdd-481c-84c9-7cd9175e2ca1",
   "metadata": {},
   "outputs": [
    {
     "data": {
      "image/png": "[encoded data removed]",
      "text/plain": [
       "<Figure size 720x720 with 4 Axes>"
      ]
     },
     "metadata": {
      "needs_background": "light"
     },
     "output_type": "display_data"
    }
   ],
   "source": [
    "#plot water body size fractions for  BAWLD and PlanetScope\n",
    "fig, axes = plt.subplots(2,2, figsize = (10,10))\n",
    "\n",
    "sns.lineplot(x=[0,8], y=[0,8], linestyle='dashed', color = 'grey', alpha = 0.5, ax=axes[0,0])\n",
    "axes[0,0].hlines(BAWLD.loc[BAWLD['AOI']=='birch_creek']['PL_LAK'], BAWLD.loc[BAWLD['AOI']=='birch_creek']['LAK_L'], BAWLD.loc[BAWLD['AOI']=='birch_creek']['LAK_H'], color='k', alpha=0.2)\n",
    "axes[0,0].vlines(BAWLD.loc[BAWLD['AOI']=='birch_creek']['LAK'], BAWLD.loc[BAWLD['AOI']=='birch_creek']['PL_LAK_L'], BAWLD.loc[BAWLD['AOI']=='birch_creek']['PL_LAK_H'], color='k', alpha=0.2)\n",
    "sns.scatterplot(data=BAWLD.loc[BAWLD['AOI']=='birch_creek'], x='LAK', y='PL_LAK', palette='Dark2', ax = axes[0,0])\n",
    "sns.scatterplot(data=BAWLD.loc[BAWLD['AOI']=='birch_creek'], x='LAM', y='PL_M', palette='Dark2', ax = axes[0,0])  \n",
    "sns.scatterplot(data=BAWLD.loc[BAWLD['AOI']=='birch_creek'], x='LAS', y='PL_S', palette='Dark2', ax = axes[0,0])\n",
    "\n",
    "\n",
    "sns.lineplot(x=[0,1], y=[0,1], linestyle='dashed', color = 'grey', alpha = 0.5, ax=axes[0,1])\n",
    "axes[0,1].hlines(BAWLD.loc[BAWLD['AOI']=='fairbanks']['PL_LAK'], BAWLD.loc[BAWLD['AOI']=='fairbanks']['LAK_L'], BAWLD.loc[BAWLD['AOI']=='fairbanks']['LAK_H'], color='k', alpha=0.2)\n",
    "axes[0,1].vlines(BAWLD.loc[BAWLD['AOI']=='fairbanks']['LAK'], BAWLD.loc[BAWLD['AOI']=='fairbanks']['PL_LAK_L'], BAWLD.loc[BAWLD['AOI']=='fairbanks']['PL_LAK_H'], color='k', alpha=0.2)\n",
    "sns.scatterplot(data=BAWLD.loc[BAWLD['AOI']=='fairbanks'], x='LAK', y='PL_LAK', palette='Dark2', legend= None, ax = axes[0,1])\n",
    "sns.scatterplot(data=BAWLD.loc[BAWLD['AOI']=='fairbanks'], x='LAM', y='PL_M', palette='Dark2', legend= None, ax = axes[0,1])  \n",
    "sns.scatterplot(data=BAWLD.loc[BAWLD['AOI']=='fairbanks'], x='LAS', y='PL_S', palette='Dark2', legend= None, ax = axes[0,1])\n",
    "\n",
    "sns.lineplot(x=[0,1.5], y=[0,1.5], linestyle='dashed', color = 'grey', alpha = 0.5, ax=axes[1,0])\n",
    "axes[1,0].hlines(BAWLD.loc[BAWLD['AOI']=='delta_junction']['PL_LAK'], BAWLD.loc[BAWLD['AOI']=='delta_junction']['LAK_L'], BAWLD.loc[BAWLD['AOI']=='delta_junction']['LAK_H'], color='k', alpha=0.2)\n",
    "axes[1,0].vlines(BAWLD.loc[BAWLD['AOI']=='delta_junction']['LAK'], BAWLD.loc[BAWLD['AOI']=='delta_junction']['PL_LAK_L'], BAWLD.loc[BAWLD['AOI']=='delta_junction']['PL_LAK_H'], color='k', alpha=0.2)\n",
    "sns.scatterplot(data=BAWLD.loc[BAWLD['AOI']=='delta_junction'], x='LAK', y='PL_LAK', palette='Dark2', legend= None, ax = axes[1,0])\n",
    "sns.scatterplot(data=BAWLD.loc[BAWLD['AOI']=='delta_junction'], x='LAM', y='PL_M', palette='Dark2', legend= None, ax = axes[1,0])  \n",
    "sns.scatterplot(data=BAWLD.loc[BAWLD['AOI']=='delta_junction'], x='LAS', y='PL_S', palette='Dark2', legend= None, ax = axes[1,0])\n",
    "\n",
    "sns.lineplot(x=[0,30], y=[0,30], linestyle='dashed', color = 'grey', alpha = 0.5, ax=axes[1,1])\n",
    "axes[1,1].hlines(BAWLD.loc[BAWLD['AOI']=='YKD']['PL_LAK'], BAWLD.loc[BAWLD['AOI']=='YKD']['LAK_L'], BAWLD.loc[BAWLD['AOI']=='YKD']['LAK_H'], color='k', alpha=0.2)\n",
    "axes[1,1].vlines(BAWLD.loc[BAWLD['AOI']=='YKD']['LAK'], BAWLD.loc[BAWLD['AOI']=='YKD']['PL_LAK_L'], BAWLD.loc[BAWLD['AOI']=='YKD']['PL_LAK_H'], color='k', alpha=0.2)\n",
    "sns.scatterplot(data=BAWLD.loc[BAWLD['AOI']=='YKD'], x='LAK', y='PL_LAK', palette='Dark2', legend= None, ax = axes[1,1], label = 'Percent Lakes')\n",
    "sns.scatterplot(data=BAWLD.loc[BAWLD['AOI']=='YKD'], x='LAM', y='PL_M', palette='Dark2', ax = axes[1,1], label = 'Percent Medium Lakes')  \n",
    "sns.scatterplot(data=BAWLD.loc[BAWLD['AOI']=='YKD'], x='LAS', y='PL_S', palette='Dark2', ax = axes[1,1], label = 'Percent Small Lakes')\n",
    "sns.scatterplot(data=BAWLD.loc[BAWLD['AOI']=='YKD'], x='LAL', y='PL_L', palette='Dark2', ax = axes[1,1], label = 'Percent Large Lakes')\n",
    "\n",
    "axes[0][0].set(title='Yukon Flats', ylabel='Planet Percent Lake Cover', xlabel='BAWLD Percent Lake Cover')\n",
    "axes[0][1].set(title='Fairbanks', ylabel='Planet Percent Lake Cover', xlabel='BAWLD Percent Lake Cover')\n",
    "axes[1][0].set(title='Delta Junction', ylabel='Planet Percent Lake Cover', xlabel='BAWLD Percent Lake Cover')\n",
    "axes[1][1].set(title='YKD', ylabel='Planet Percent Lake Cover', xlabel='BAWLD Percent Lake Cover')\n",
    "#plt.savefig('/explore/nobackup/people/almullen/smallsat/figures/methane/BAWLD_PL_lakes.jpg', dpi=300, bbox_inches='tight')\n",
    "plt.show()"
   ]
  },
  {
   "cell_type": "code",
   "execution_count": 23,
   "id": "92311847-7af2-4265-a1e1-b13f0185693f",
   "metadata": {},
   "outputs": [
    {
     "data": {
      "image/png": "[encoded data removed]",
      "text/plain": [
       "<Figure size 1080x864 with 4 Axes>"
      ]
     },
     "metadata": {
      "needs_background": "light"
     },
     "output_type": "display_data"
    }
   ],
   "source": [
    "fig, axes = plt.subplots(2,2, figsize = (15,12))\n",
    "sns.lineplot(x=[0, 3], y=[0,3], linestyle='dashed', color = 'grey', alpha = 0.5, ax=axes[0,0])\n",
    "sns.scatterplot(data=BAWLD.loc[BAWLD['AOI']=='birch_creek'], x='lake_methane', y='pl_lake_methane', palette='Dark2', ax = axes[0,0])\n",
    "sns.lineplot(x=[0, 1], y=[0,1], linestyle='dashed', color = 'grey', alpha = 0.5, ax=axes[0,1])\n",
    "sns.scatterplot(data=BAWLD.loc[BAWLD['AOI']=='fairbanks'], x='lake_methane', y='pl_lake_methane', palette='Dark2', ax = axes[0,1])\n",
    "sns.lineplot(x=[0, 1.5], y=[0,1.5], linestyle='dashed', color = 'grey', alpha = 0.5, ax=axes[1,0])\n",
    "sns.scatterplot(data=BAWLD.loc[BAWLD['AOI']=='delta_junction'], x='lake_methane', y='pl_lake_methane', palette='Dark2', ax = axes[1,0])\n",
    "sns.lineplot(x=[0, 10], y=[0,10], linestyle='dashed', color = 'grey', alpha = 0.5, ax=axes[1,1])\n",
    "sns.scatterplot(data=BAWLD.loc[BAWLD['AOI']=='YKD'], x='lake_methane', y='pl_lake_methane', palette='Dark2', ax = axes[1,1])\n",
    "\n",
    "axes[0][0].set(title='Yukon Flats', ylabel='Planet (mg $CH_{4}$ $m^{-2}$ $d^{-1}$)', xlabel='BAWLD (mg $CH_{4}$ $m^{-2}$ $d^{-1}$)')\n",
    "axes[0][1].set(title='Fairbanks', ylabel='Planet (mg $CH_{4}$ $m^{-2}$ $d^{-1}$)', xlabel='BAWLD (mg $CH_{4}$ $m^{-2}$ $d^{-1}$)')\n",
    "axes[1][0].set(title='Delta Junction', ylabel='Planet (mg $CH_{4}$ $m^{-2}$ $d^{-1}$)', xlabel='BAWLD (mg $CH_{4}$ $m^{-2}$ $d^{-1}$)')\n",
    "axes[1][1].set(title='YKD', ylabel='Planet (mg $CH_{4}$ $m^{-2}$ $d^{-1}$)', xlabel='BAWLD (mg $CH_{4}$ $km^{-2}$ $m^{-2}$ $d^{-1}$)')\n",
    "#plt.savefig('/explore/nobackup/people/almullen/smallsat/figures/methane/BAWLD_PL_methane.jpg', dpi=300, bbox_inches='tight')\n",
    "plt.show()"
   ]
  },
  {
   "cell_type": "code",
   "execution_count": 21,
   "id": "5a258099-60a0-4c2b-9059-9ebee6f76389",
   "metadata": {},
   "outputs": [],
   "source": [
    "#save to csv\n",
    "BAWLD[['AOI', 'Cell_ID', 'pl_pond_methane','pl_pond_methane_low','pl_pond_methane_high', 'pl_lake_methane', 'area']].to_csv('output/planet_methane.csv')\n",
    "#BAWLD[['AOI', 'Cell_ID', 'pl_pond_methane', 'pl_lake_methane', 'area']].to_csv('output/s2_methane.csv')"
   ]
  },
  {
   "cell_type": "code",
   "execution_count": null,
   "id": "8ed42e8c-0a07-49ee-b19d-04b9d47d1b8f",
   "metadata": {},
   "outputs": [],
   "source": []
  },
  {
   "cell_type": "code",
   "execution_count": null,
   "id": "0cdbd843-fba4-4cfb-a577-d0bdc41395e8",
   "metadata": {},
   "outputs": [],
   "source": []
  }
 ],
 "metadata": {
  "kernelspec": {
   "display_name": "Python [conda env:.conda-smallsat]",
   "language": "python",
   "name": "conda-env-.conda-smallsat-py"
  },
  "language_info": {
   "codemirror_mode": {
    "name": "ipython",
    "version": 3
   },
   "file_extension": ".py",
   "mimetype": "text/x-python",
   "name": "python",
   "nbconvert_exporter": "python",
   "pygments_lexer": "ipython3",
   "version": "3.9.10"
  }
 },
 "nbformat": 4,
 "nbformat_minor": 5
}
